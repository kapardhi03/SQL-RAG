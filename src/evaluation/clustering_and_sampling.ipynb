{
 "cells": [
  {
   "cell_type": "code",
   "execution_count": 186,
   "id": "94c394eb",
   "metadata": {},
   "outputs": [],
   "source": [
    "import sys\n",
    "import os\n",
    "\n",
    "sys.path.append(os.path.abspath(\"../\"))"
   ]
  },
  {
   "cell_type": "code",
   "execution_count": 187,
   "id": "5f1fb373",
   "metadata": {},
   "outputs": [
    {
     "name": "stdout",
     "output_type": "stream",
     "text": [
      "Available models:\n",
      "azure-gpt-4o\n",
      "azure-gpt-4o-mini\n"
     ]
    }
   ],
   "source": [
    "from agents.models import models\n",
    "\n",
    "print(\"Available models:\")\n",
    "for i in models.keys():\n",
    "    print(i)"
   ]
  },
  {
   "cell_type": "code",
   "execution_count": 188,
   "id": "62b3750e",
   "metadata": {},
   "outputs": [],
   "source": [
    "from database.connection import PGConnection\n",
    "\n",
    "conn = PGConnection().get_conn()\n",
    "cursor = conn.cursor()"
   ]
  },
  {
   "cell_type": "code",
   "execution_count": 189,
   "id": "5d61ba3a",
   "metadata": {},
   "outputs": [],
   "source": [
    "import pandas as pd\n",
    "\n",
    "\n",
    "def get_df(cursor, table_name):\n",
    "    cursor.execute(f\"SELECT * FROM {table_name};\")\n",
    "    rows = cursor.fetchall()\n",
    "    df = pd.DataFrame(rows, columns=[desc[0] for desc in cursor.description])\n",
    "    return df\n",
    "\n",
    "\n",
    "table = \"goods\"\n",
    "df = get_df(cursor, table)\n",
    "FILENAME = \"./sample_data/goods_sample.json\"\n",
    "CLUSTERS = 35"
   ]
  },
  {
   "cell_type": "code",
   "execution_count": 190,
   "id": "6bbf9fe5",
   "metadata": {},
   "outputs": [],
   "source": [
    "import ast\n",
    "\n",
    "\n",
    "def convert_to_list(vector_str):\n",
    "    try:\n",
    "        return ast.literal_eval(vector_str)\n",
    "    except (ValueError, SyntaxError):\n",
    "        return []\n",
    "\n",
    "\n",
    "df[\"useembed_description\"] = df[\"useembed_description\"].apply(convert_to_list)"
   ]
  },
  {
   "cell_type": "code",
   "execution_count": 191,
   "id": "017ed3f8",
   "metadata": {},
   "outputs": [],
   "source": [
    "import numpy as np\n",
    "from sklearn.cluster import KMeans\n",
    "\n",
    "num_rows = df.shape[0]\n",
    "\n",
    "X = np.vstack(df.useembed_description.to_numpy())\n",
    "\n",
    "kmeans = KMeans(n_clusters=CLUSTERS)\n",
    "c = kmeans.fit_predict(X)\n",
    "df[\"cluster_kmeans\"] = c"
   ]
  },
  {
   "cell_type": "code",
   "execution_count": 192,
   "id": "3fb03d3f",
   "metadata": {},
   "outputs": [
    {
     "data": {
      "text/plain": [
       "cluster_kmeans\n",
       "0      45\n",
       "1     299\n",
       "2      36\n",
       "3      71\n",
       "4      45\n",
       "5      79\n",
       "6      30\n",
       "7      81\n",
       "8      31\n",
       "9      62\n",
       "10     69\n",
       "11     65\n",
       "12     19\n",
       "13      6\n",
       "14     14\n",
       "15     64\n",
       "16     36\n",
       "17     27\n",
       "18     52\n",
       "19     64\n",
       "20     16\n",
       "21     70\n",
       "22     20\n",
       "23     58\n",
       "24     29\n",
       "25     36\n",
       "26     47\n",
       "27     62\n",
       "28     16\n",
       "29     65\n",
       "30     45\n",
       "31     63\n",
       "32     50\n",
       "33     41\n",
       "34     40\n",
       "Name: count, dtype: int64"
      ]
     },
     "execution_count": 192,
     "metadata": {},
     "output_type": "execute_result"
    }
   ],
   "source": [
    "df.cluster_kmeans.value_counts().sort_index()"
   ]
  },
  {
   "cell_type": "markdown",
   "id": "06be9ac1",
   "metadata": {},
   "source": [
    "## Visualization"
   ]
  },
  {
   "cell_type": "code",
   "execution_count": 193,
   "id": "ba8aee9f",
   "metadata": {},
   "outputs": [],
   "source": [
    "import plotly.express as px\n",
    "from plotly.express.colors import qualitative\n",
    "from plotly.graph_objs import FigureWidget\n",
    "from sklearn.manifold import TSNE"
   ]
  },
  {
   "cell_type": "code",
   "execution_count": 194,
   "id": "8da12aa1",
   "metadata": {},
   "outputs": [],
   "source": [
    "X_tsne = TSNE(n_components=2).fit_transform(X)"
   ]
  },
  {
   "cell_type": "code",
   "execution_count": 195,
   "id": "6234d7b0",
   "metadata": {},
   "outputs": [],
   "source": [
    "kmeans_tsne = KMeans(n_clusters=CLUSTERS)\n",
    "c_tsne = kmeans.fit_predict(X_tsne)"
   ]
  },
  {
   "cell_type": "code",
   "execution_count": 196,
   "id": "b3bccc59",
   "metadata": {},
   "outputs": [
    {
     "data": {
      "text/plain": [
       "(1853, 2)"
      ]
     },
     "execution_count": 196,
     "metadata": {},
     "output_type": "execute_result"
    }
   ],
   "source": [
    "X_tsne.shape"
   ]
  },
  {
   "cell_type": "code",
   "execution_count": 197,
   "id": "ff365212",
   "metadata": {},
   "outputs": [],
   "source": [
    "df[\"cluster_tsne\"] = c_tsne"
   ]
  },
  {
   "cell_type": "code",
   "execution_count": 198,
   "id": "616f048c",
   "metadata": {},
   "outputs": [
    {
     "data": {
      "application/vnd.jupyter.widget-view+json": {
       "model_id": "add2140c60bb447a810b663fa09a8280",
       "version_major": 2,
       "version_minor": 0
      },
      "text/plain": [
       "FigureWidget({\n",
       "    'data': [{'hovertemplate': ('<b>%{hovertext}</b><br><br>x=%' ... '%{marker.color}<extra></extra>'),\n",
       "              'hovertext': array(['[Omitted]', 'All goods [other than fresh or chilled] pre-packag',\n",
       "                                  'Niobium, tantalum, vanadium or zirconium ores and ', ...,\n",
       "                                  'Yacht and other vessels for pleasure or sports',\n",
       "                                  'All goods other than those mentioned at S. Nos. 1 ',\n",
       "                                  'Note: *Notification No. 21/2018 -Central Tax (Rate'], dtype=object),\n",
       "              'legendgroup': '',\n",
       "              'marker': {'color': {'bdata': ('AAAAABMAAAAWAAAAEwAAAAAAAAAAAA' ... 'AACwAAAAsAAAAbAAAAFQAAABoAAAA='),\n",
       "                                   'dtype': 'i4'},\n",
       "                         'coloraxis': 'coloraxis',\n",
       "                         'size': 5,\n",
       "                         'symbol': 'circle'},\n",
       "              'mode': 'markers',\n",
       "              'name': '',\n",
       "              'showlegend': False,\n",
       "              'type': 'scattergl',\n",
       "              'uid': 'ec90d732-40c6-4a34-b669-a6ed037af646',\n",
       "              'x': {'bdata': ('Z/xMQg872kEPsTDCX8XcQSDqc0Ig6n' ... 'zCrytmwhgSL8LQ04PCy1A3QdNabUA='),\n",
       "                    'dtype': 'f4'},\n",
       "              'xaxis': 'x',\n",
       "              'y': {'bdata': ('3Z8Lwgk+2UGIMNNB3BLZQTp03sE6dN' ... 'TCqGcIwqfJHsLgAuDBPVwWQLSmBcI='),\n",
       "                    'dtype': 'f4'},\n",
       "              'yaxis': 'y'}],\n",
       "    'layout': {'coloraxis': {'colorbar': {'title': {'text': 'Cluster'}},\n",
       "                             'colorscale': [[0.0, '#0d0887'], [0.1111111111111111,\n",
       "                                            '#46039f'], [0.2222222222222222,\n",
       "                                            '#7201a8'], [0.3333333333333333,\n",
       "                                            '#9c179e'], [0.4444444444444444,\n",
       "                                            '#bd3786'], [0.5555555555555556,\n",
       "                                            '#d8576b'], [0.6666666666666666,\n",
       "                                            '#ed7953'], [0.7777777777777778,\n",
       "                                            '#fb9f3a'], [0.8888888888888888,\n",
       "                                            '#fdca26'], [1.0, '#f0f921']]},\n",
       "               'height': 800,\n",
       "               'legend': {'tracegroupgap': 0},\n",
       "               'template': '...',\n",
       "               'title': {'text': 'Chunk Embeddings'},\n",
       "               'width': 800,\n",
       "               'xaxis': {'anchor': 'y', 'domain': [0.0, 1.0], 'title': {'text': 'x'}},\n",
       "               'yaxis': {'anchor': 'x', 'domain': [0.0, 1.0], 'title': {'text': 'y'}}}\n",
       "})"
      ]
     },
     "execution_count": 198,
     "metadata": {},
     "output_type": "execute_result"
    }
   ],
   "source": [
    "def print_samples(df, indices, n_samples=10):\n",
    "    for _, row in df.iloc[indices].head(n_samples).iterrows():\n",
    "        print(row.usevec_description)\n",
    "        print(\"---------------------------------------\")\n",
    "\n",
    "\n",
    "# Create a scatter plot with hover annotations\n",
    "annos = df.usevec_description.str.slice(0, 50)\n",
    "fig = px.scatter(\n",
    "    x=X_tsne[:, 0],\n",
    "    y=X_tsne[:, 1],\n",
    "    hover_name=annos,\n",
    "    # color=c,\n",
    "    color=c_tsne,\n",
    "    color_discrete_sequence=qualitative.Set1,\n",
    "    labels={\"color\": \"Cluster\"},\n",
    "    title=\"Chunk Embeddings\",\n",
    "    width=800,\n",
    "    height=800,\n",
    ")\n",
    "\n",
    "# Enable selection of points\n",
    "fig.update_traces(marker=dict(size=5), selector=dict(mode=\"markers\"))\n",
    "\n",
    "fig_widget = FigureWidget(fig)\n",
    "\n",
    "# Global variable to store selected indices\n",
    "selected_indices = []\n",
    "\n",
    "\n",
    "# Define a callback to capture selected points\n",
    "def on_selection(trace, points, state):\n",
    "    global selected_indices\n",
    "    selected_indices = points.point_inds  # Store selected indices\n",
    "\n",
    "\n",
    "# Attach the callback to the scatter trace\n",
    "scatter_trace = fig_widget.data[0]\n",
    "scatter_trace.on_selection(on_selection)\n",
    "\n",
    "# Display the interactive plot\n",
    "fig_widget"
   ]
  },
  {
   "cell_type": "code",
   "execution_count": 203,
   "id": "a985c5ab",
   "metadata": {},
   "outputs": [
    {
     "name": "stdout",
     "output_type": "stream",
     "text": [
      "Coffee roasted, whether or not decaffeinated coffee  husks and skins; coffee substitutes containing coffee in any proportion [other than coffee beans not roasted]\n",
      "---------------------------------------\n",
      "Soya beans, whether or not broken other than of seed quality.\n",
      "---------------------------------------\n",
      "Linseed, whether or not broken other than of seed quality.\n",
      "---------------------------------------\n",
      "Rape or colza seeds, whether or not broken other than of  seed quality.\n",
      "---------------------------------------\n",
      "Sunflower seeds, whether or not broken other than of seed  quality\n",
      "---------------------------------------\n",
      "Other oil seeds and oleaginous fruits (i.e. Palm nuts and kernels, cotton seeds, Castor oil seeds, Sesamum seeds,  Mustard seeds, Saffower (Carthamustinctorius) seeds, Melon seeds, Poppy seeds, Ajams, Mango kernel, Niger seed, Kokam) whether or not broken, other than of seed quality\n",
      "---------------------------------------\n",
      "Flour and meals of oil seeds or oleaginous fruits, other  than those of mustard\n",
      "---------------------------------------\n",
      "Soya-bean oil and its fractions, whether or not refined, but  not chemically modified\n",
      "---------------------------------------\n",
      "Ground-nut oil and its fractions, whether or not refined,  but not chemically modified.\n",
      "---------------------------------------\n",
      "Olive oil and its fractions, whether or not refined, but not  chemically modified.\n",
      "---------------------------------------\n"
     ]
    }
   ],
   "source": [
    "print_samples(df, selected_indices, n_samples=10)"
   ]
  },
  {
   "cell_type": "code",
   "execution_count": 200,
   "id": "687a8933",
   "metadata": {},
   "outputs": [],
   "source": [
    "from decimal import Decimal\n",
    "\n",
    "\n",
    "def decimal_serializer(obj):\n",
    "    if isinstance(obj, Decimal):\n",
    "        return float(obj)\n",
    "    raise TypeError(f\"Type {type(obj)} not serializable\")"
   ]
  },
  {
   "cell_type": "code",
   "execution_count": 201,
   "id": "92038a20",
   "metadata": {},
   "outputs": [],
   "source": [
    "import json\n",
    "\n",
    "\n",
    "def smart_sample_to_json(df, samples_per_cluster, output_file, as_jsonl=False):\n",
    "    all_samples = []\n",
    "\n",
    "    for cluster, group in df.groupby(\"cluster_tsne\"):\n",
    "        sample = group.sample(n=min(samples_per_cluster, len(group)), random_state=42)\n",
    "        # Drop columns that start with 'useembed_'\n",
    "        sample_filtered = sample.loc[:, ~sample.columns.str.startswith(\"useembed_\")]\n",
    "        all_samples.extend(sample_filtered.to_dict(orient=\"records\"))\n",
    "\n",
    "    if as_jsonl:\n",
    "        with open(output_file, \"w\") as f:\n",
    "            for item in all_samples:\n",
    "                f.write(json.dumps(item, default=str) + \"\\n\")\n",
    "    else:\n",
    "        with open(output_file, \"w\") as f:\n",
    "            json.dump(all_samples, f, indent=4, default=str)"
   ]
  },
  {
   "cell_type": "code",
   "execution_count": 202,
   "id": "0412371a",
   "metadata": {},
   "outputs": [],
   "source": [
    "smart_sample_to_json(df, 6, output_file=FILENAME)"
   ]
  }
 ],
 "metadata": {
  "kernelspec": {
   "display_name": "major",
   "language": "python",
   "name": "python3"
  },
  "language_info": {
   "codemirror_mode": {
    "name": "ipython",
    "version": 3
   },
   "file_extension": ".py",
   "mimetype": "text/x-python",
   "name": "python",
   "nbconvert_exporter": "python",
   "pygments_lexer": "ipython3",
   "version": "3.10.17"
  }
 },
 "nbformat": 4,
 "nbformat_minor": 5
}
